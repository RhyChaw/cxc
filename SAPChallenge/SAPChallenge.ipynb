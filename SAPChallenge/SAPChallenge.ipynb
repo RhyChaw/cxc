{
  "nbformat": 4,
  "nbformat_minor": 0,
  "metadata": {
    "colab": {
      "provenance": [],
      "authorship_tag": "ABX9TyPOWW1CiYXeU5zWIBKThiC3",
      "include_colab_link": true
    },
    "kernelspec": {
      "name": "python3",
      "display_name": "Python 3"
    },
    "language_info": {
      "name": "python"
    }
  },
  "cells": [
    {
      "cell_type": "markdown",
      "metadata": {
        "id": "view-in-github",
        "colab_type": "text"
      },
      "source": [
        "<a href=\"https://colab.research.google.com/github/RhyChaw/cxc/blob/main/SAPChallenge.ipynb\" target=\"_parent\"><img src=\"https://colab.research.google.com/assets/colab-badge.svg\" alt=\"Open In Colab\"/></a>"
      ]
    },
    {
      "cell_type": "markdown",
      "source": [
        "# **Google Colab Notebook for CxC 2025 SAP Challenge**"
      ],
      "metadata": {
        "id": "IKBMXQUWgX1n"
      }
    },
    {
      "cell_type": "markdown",
      "source": [
        "# Step 1: Import Required Libraries"
      ],
      "metadata": {
        "id": "wdam61HXgkds"
      }
    },
    {
      "cell_type": "code",
      "source": [
        "import pandas as pd\n",
        "import numpy as np\n",
        "import matplotlib.pyplot as plt\n",
        "import seaborn as sns\n",
        "from sklearn.impute import SimpleImputer\n",
        "from sklearn.preprocessing import MinMaxScaler\n",
        "from sklearn.decomposition import PCA\n",
        "from sklearn.ensemble import RandomForestRegressor\n",
        "from sklearn.cluster import KMeans\n",
        "from sklearn.linear_model import LinearRegression\n",
        "import shap\n",
        "import plotly.express as px"
      ],
      "metadata": {
        "id": "2fl_vB-Pgojj"
      },
      "execution_count": null,
      "outputs": []
    },
    {
      "cell_type": "markdown",
      "source": [
        "# Step 2: Load Data (Update File Path)\n",
        "\n"
      ],
      "metadata": {
        "id": "ecYL4KwdguTr"
      }
    },
    {
      "cell_type": "code",
      "source": [
        "from google.colab import files\n",
        "uploaded = files.upload()\n",
        "\n",
        "data_file = list(uploaded.keys())[0]\n",
        "xls = pd.ExcelFile('SAP Datasets.xlsx')\n",
        "df = pd.read_excel(xls, sheet_name='AFE')\n",
        "\n",
        "# Display basic information\n",
        "df.head()"
      ],
      "metadata": {
        "id": "kF9CYuC7g1rQ"
      },
      "execution_count": null,
      "outputs": []
    },
    {
      "cell_type": "markdown",
      "source": [
        "# Step 3: Select Key Indicators (Education, Health, Living Standards)"
      ],
      "metadata": {
        "id": "0uq5IgAQhGOw"
      }
    },
    {
      "cell_type": "code",
      "source": [
        "mpi_indicators = [\n",
        "    \"Literacy rate, youth female (% of females ages 15-24)\",\n",
        "    \"Literacy rate, youth (ages 15-24), gender parity index (GPI)\",\n",
        "    \"Adjusted savings: education expenditure (current US$)\",\n",
        "    \"Access to clean fuels and technologies for cooking (% of population)\",\n",
        "    \"Access to electricity (% of population)\",\n",
        "    \"Adequacy of social protection and labor programs (% of total welfare of beneficiary households)\",\n",
        "    \"Multilateral debt service (% of public and publicly guaranteed debt service)\"\n",
        "]\n",
        "\n",
        "mpi_df = df[df[\"Indicator Name\"].isin(mpi_indicators)].copy()\n",
        "mpi_df = mpi_df.drop(columns=[\"Topic\", \"short description\", \"long description\", \"Indicator Code\", \"Unit of measure\"])\n",
        "mpi_df = mpi_df.melt(id_vars=[\"Country Name\", \"Country Code\", \"Indicator Name\"], var_name=\"Year\", value_name=\"Value\")\n",
        "mpi_df[\"Year\"] = mpi_df[\"Year\"].astype(int)\n",
        "mpi_df = mpi_df.sort_values(by=[\"Country Name\", \"Year\"])\n"
      ],
      "metadata": {
        "id": "0uh91UKthHBf"
      },
      "execution_count": null,
      "outputs": []
    },
    {
      "cell_type": "markdown",
      "source": [
        "# Next Steps:\n",
        "# 1. Handle missing values using imputation.\n",
        "# 2. Normalize the data using MinMaxScaler.\n",
        "# 3. Use PCA and Feature Importance to determine key contributors.\n",
        "# 4. Construct the MPI index using weighted aggregation.\n",
        "# 5. Perform regression analysis to determine poverty impact.\n",
        "# 6. Use clustering to find patterns.\n",
        "# 7. Generate insights and policy recommendations.\n",
        "# 8. Visualize results using Seaborn/Plotly.\n",
        "\n",
        "# Run this notebook step by step and complete the TODO sections."
      ],
      "metadata": {
        "id": "rWGObqu0hKin"
      }
    },
    {
      "cell_type": "code",
      "source": [],
      "metadata": {
        "id": "Yrxq8pRRhN_T"
      },
      "execution_count": null,
      "outputs": []
    }
  ]
}