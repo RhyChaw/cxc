{
  "nbformat": 4,
  "nbformat_minor": 0,
  "metadata": {
    "colab": {
      "provenance": []
    },
    "kernelspec": {
      "name": "python3",
      "display_name": "Python 3"
    },
    "language_info": {
      "name": "python"
    }
  },
  "cells": [
    {
      "cell_type": "markdown",
      "source": [
        "# **Google Colab Notebook for CxC 2025 SAP Challenge**"
      ],
      "metadata": {
        "id": "IKBMXQUWgX1n"
      }
    },
    {
      "cell_type": "markdown",
      "source": [
        "# Step 1: Import Required Libraries"
      ],
      "metadata": {
        "id": "wdam61HXgkds"
      }
    },
    {
      "cell_type": "code",
      "source": [
        "import pandas as pd\n",
        "import numpy as np\n",
        "import matplotlib.pyplot as plt\n",
        "import seaborn as sns\n",
        "from sklearn.impute import SimpleImputer\n",
        "from sklearn.preprocessing import MinMaxScaler\n",
        "from sklearn.decomposition import PCA\n",
        "from sklearn.ensemble import RandomForestRegressor\n",
        "from sklearn.cluster import KMeans\n",
        "from sklearn.linear_model import LinearRegression\n",
        "import shap\n",
        "import plotly.express as px"
      ],
      "metadata": {
        "id": "2fl_vB-Pgojj"
      },
      "execution_count": null,
      "outputs": []
    },
    {
      "cell_type": "markdown",
      "source": [
        "# Step 2: Load Data (Update File Path)\n",
        "\n"
      ],
      "metadata": {
        "id": "ecYL4KwdguTr"
      }
    },
    {
      "cell_type": "code",
      "source": [
        "import os\n",
        "\n",
        "# Define file path (Colab upload path)\n",
        "data_file = '/content/SAP.xlsx'\n",
        "\n",
        "# Ensure the file exists\n",
        "if os.path.exists(data_file):\n",
        "    xls = pd.ExcelFile(data_file)\n",
        "    df = pd.read_excel(xls, sheet_name='AFE')\n",
        "else:\n",
        "    raise FileNotFoundError(\"File 'SAP.xlsx' not found in Colab uploads. Please upload it first.\")\n",
        "\n",
        "# Display basic information\n",
        "df.head()"
      ],
      "metadata": {
        "id": "kF9CYuC7g1rQ"
      },
      "execution_count": null,
      "outputs": []
    },
    {
      "cell_type": "markdown",
      "source": [
        "# Step 3: Select Key Indicators (Education, Health, Living Standards)"
      ],
      "metadata": {
        "id": "0uq5IgAQhGOw"
      }
    },
    {
      "cell_type": "code",
      "source": [
        "mpi_indicators = [\n",
        "    \"Literacy rate, youth female (% of females ages 15-24)\",\n",
        "    \"Literacy rate, youth (ages 15-24), gender parity index (GPI)\",\n",
        "    \"Adjusted savings: education expenditure (current US$)\",\n",
        "    \"Access to clean fuels and technologies for cooking (% of population)\",\n",
        "    \"Access to electricity (% of population)\",\n",
        "    \"Adequacy of social protection and labor programs (% of total welfare of beneficiary households)\",\n",
        "    \"Multilateral debt service (% of public and publicly guaranteed debt service)\"\n",
        "]\n",
        "\n",
        "mpi_df = df[df[\"Indicator Name\"].isin(mpi_indicators)].copy()\n",
        "mpi_df = mpi_df.drop(columns=[\"Topic\", \"short description\", \"long description\", \"Indicator Code\", \"Unit of measure\"])\n",
        "mpi_df = mpi_df.melt(id_vars=[\"Country Name\", \"Country Code\", \"Indicator Name\"], var_name=\"Year\", value_name=\"Value\")\n",
        "mpi_df[\"Year\"] = mpi_df[\"Year\"].astype(int)\n",
        "mpi_df = mpi_df.sort_values(by=[\"Country Name\", \"Year\"])\n"
      ],
      "metadata": {
        "id": "0uh91UKthHBf"
      },
      "execution_count": null,
      "outputs": []
    },
    {
      "cell_type": "markdown",
      "source": [
        "# Step 4: Handle Missing Values\n"
      ],
      "metadata": {
        "id": "rWGObqu0hKin"
      }
    },
    {
      "cell_type": "code",
      "source": [
        "imputer = SimpleImputer(strategy='median')\n",
        "mpi_df['Value'] = imputer.fit_transform(mpi_df[['Value']])"
      ],
      "metadata": {
        "id": "Yrxq8pRRhN_T"
      },
      "execution_count": null,
      "outputs": []
    },
    {
      "cell_type": "markdown",
      "source": [
        "# Step 5: Normalize the Data"
      ],
      "metadata": {
        "id": "sWaiphPzjION"
      }
    },
    {
      "cell_type": "code",
      "source": [
        "scaler = MinMaxScaler()\n",
        "mpi_df['Normalized Value'] = scaler.fit_transform(mpi_df[['Value']])"
      ],
      "metadata": {
        "id": "8--Nkk8TjJ-_"
      },
      "execution_count": null,
      "outputs": []
    },
    {
      "cell_type": "markdown",
      "source": [
        "# Step 6: Perform Feature Selection using PCA"
      ],
      "metadata": {
        "id": "9QcK_2rZjLum"
      }
    },
    {
      "cell_type": "code",
      "source": [
        "pivot_df = mpi_df.pivot(index=[\"Country Name\", \"Year\"], columns=\"Indicator Name\", values=\"Normalized Value\")\n",
        "pca = PCA(n_components=3)\n",
        "principal_components = pca.fit_transform(pivot_df.dropna())\n",
        "mpi_df_pca = pd.DataFrame(principal_components, index=pivot_df.dropna().index, columns=[\"PC1\", \"PC2\", \"PC3\"])"
      ],
      "metadata": {
        "id": "f6mEEU5fjNOU"
      },
      "execution_count": null,
      "outputs": []
    },
    {
      "cell_type": "markdown",
      "source": [
        "# Step 7: Build the MPI Index using Weighted Sum of PCA Components\n"
      ],
      "metadata": {
        "id": "UdZhgU4djPe1"
      }
    },
    {
      "cell_type": "code",
      "source": [
        "mpi_df_pca[\"MPI Index\"] = mpi_df_pca[\"PC1\"] * 0.5 + mpi_df_pca[\"PC2\"] * 0.3 + mpi_df_pca[\"PC3\"] * 0.2"
      ],
      "metadata": {
        "id": "Y4HzjI0NjRCT"
      },
      "execution_count": null,
      "outputs": []
    },
    {
      "cell_type": "markdown",
      "source": [
        "# Step 8: Perform Regression Analysis to Determine Impact\n"
      ],
      "metadata": {
        "id": "S4Ig62CdjTGg"
      }
    },
    {
      "cell_type": "code",
      "source": [
        "regressor = LinearRegression()\n",
        "y = mpi_df_pca[\"MPI Index\"]\n",
        "X = pivot_df.dropna()\n",
        "regressor.fit(X, y)"
      ],
      "metadata": {
        "id": "UKU0as3UjVrd"
      },
      "execution_count": null,
      "outputs": []
    },
    {
      "cell_type": "markdown",
      "source": [
        "# Step 9: Use Clustering to Find Patterns"
      ],
      "metadata": {
        "id": "rr_TF9DijXkU"
      }
    },
    {
      "cell_type": "code",
      "source": [
        "kmeans = KMeans(n_clusters=3, random_state=42)\n",
        "mpi_df_pca[\"Cluster\"] = kmeans.fit_predict(mpi_df_pca)"
      ],
      "metadata": {
        "id": "-r77nTxLjZVw"
      },
      "execution_count": null,
      "outputs": []
    },
    {
      "cell_type": "markdown",
      "source": [
        "# Step 10: Generate Insights and Policy Recommendations"
      ],
      "metadata": {
        "id": "rlNSmT2Xja9c"
      }
    },
    {
      "cell_type": "code",
      "source": [
        "feature_importance_model = RandomForestRegressor()\n",
        "feature_importance_model.fit(X, y)\n",
        "shap_values = shap.Explainer(feature_importance_model)(X)\n",
        "shap.summary_plot(shap_values, X)"
      ],
      "metadata": {
        "id": "h4Llf1SUjchD"
      },
      "execution_count": null,
      "outputs": []
    },
    {
      "cell_type": "markdown",
      "source": [
        "# Step 11: Visualize Results"
      ],
      "metadata": {
        "id": "6o_uCTgvjeZm"
      }
    },
    {
      "cell_type": "code",
      "source": [
        "plt.figure(figsize=(10, 6))\n",
        "sns.heatmap(mpi_df_pca.pivot_table(index=\"Country Name\", columns=\"Year\", values=\"MPI Index\"), cmap=\"coolwarm\")\n",
        "plt.title(\"Heatmap of MPI Index by Country and Year\")\n",
        "plt.show()\n",
        "\n",
        "fig = px.scatter(mpi_df_pca, x=\"PC1\", y=\"PC2\", color=\"Cluster\", hover_name=mpi_df_pca.index.get_level_values(\"Country Name\"))\n",
        "fig.show()"
      ],
      "metadata": {
        "id": "uFRJQL6NjgO5"
      },
      "execution_count": null,
      "outputs": []
    },
    {
      "cell_type": "markdown",
      "source": [],
      "metadata": {
        "id": "_y_b6xjhjigp"
      }
    }
  ]
}